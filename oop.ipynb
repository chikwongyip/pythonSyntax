{
 "cells": [
  {
   "cell_type": "code",
   "execution_count": 8,
   "metadata": {},
   "outputs": [],
   "source": [
    "# __del__ 当对象从内存中销毁的时候会自动调用\n",
    "class Cat:\n",
    "    def __init__(self,name) -> None:\n",
    "        self.name = name\n",
    "    \n",
    "    def eat(self):\n",
    "        print('%s猫吃鱼'%self.name)\n",
    "    \n",
    "    def __del__(self):\n",
    "        print('%s销毁了'%self.name)\n",
    "    \n",
    "    def __str__(self):\n",
    "        return '我是%s'%self.name"
   ]
  },
  {
   "cell_type": "code",
   "execution_count": 9,
   "metadata": {},
   "outputs": [
    {
     "name": "stdout",
     "output_type": "stream",
     "text": [
      "tom销毁了\n",
      "tom销毁了\n"
     ]
    }
   ],
   "source": [
    "tom = Cat('tom')\n",
    "del tom"
   ]
  },
  {
   "cell_type": "code",
   "execution_count": 10,
   "metadata": {},
   "outputs": [
    {
     "name": "stdout",
     "output_type": "stream",
     "text": [
      "我是tom\n"
     ]
    }
   ],
   "source": [
    "#__str__ 输出对象变量时候，可以用print 对象自动内容\n",
    "tom = Cat('tom')\n",
    "print(tom)"
   ]
  },
  {
   "cell_type": "code",
   "execution_count": null,
   "metadata": {},
   "outputs": [
    {
     "ename": "AttributeError",
     "evalue": "'Person' object has no attribute '__age'",
     "output_type": "error",
     "traceback": [
      "\u001b[0;31m---------------------------------------------------------------------------\u001b[0m",
      "\u001b[0;31mAttributeError\u001b[0m                            Traceback (most recent call last)",
      "Cell \u001b[0;32mIn[12], line 9\u001b[0m\n\u001b[1;32m      6\u001b[0m         \u001b[38;5;28mself\u001b[39m\u001b[38;5;241m.\u001b[39m__age \u001b[38;5;241m=\u001b[39m \u001b[38;5;241m18\u001b[39m\n\u001b[1;32m      8\u001b[0m person1 \u001b[38;5;241m=\u001b[39m Person(\u001b[38;5;124m'\u001b[39m\u001b[38;5;124mzs\u001b[39m\u001b[38;5;124m'\u001b[39m)\n\u001b[0;32m----> 9\u001b[0m person1\u001b[38;5;241m.\u001b[39m__age\n",
      "\u001b[0;31mAttributeError\u001b[0m: 'Person' object has no attribute '__age'"
     ]
    }
   ],
   "source": [
    "# 我们在类的外部中不允许 访问类中的一些方法和属性\n",
    "# 私有属性和方法\n",
    "class Person():\n",
    "    def __init__(self,name):\n",
    "        self.name = name\n",
    "        self.__age = 18 #属性前面加—__表私有\n",
    "    \n",
    "    def __my_data(self):\n",
    "        print('我的名字是%s,我的年龄是%d'%(self.name,self.__age))\n",
    "\n",
    "person1 = Person('zs')\n",
    "person1.__age\n"
   ]
  },
  {
   "cell_type": "code",
   "execution_count": null,
   "metadata": {},
   "outputs": [],
   "source": []
  }
 ],
 "metadata": {
  "language_info": {
   "name": "python"
  }
 },
 "nbformat": 4,
 "nbformat_minor": 2
}
