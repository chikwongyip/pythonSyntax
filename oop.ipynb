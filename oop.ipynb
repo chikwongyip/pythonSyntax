{
 "cells": [
  {
   "cell_type": "code",
   "execution_count": 19,
   "metadata": {},
   "outputs": [],
   "source": [
    "# __del__ 当对象从内存中销毁的时候会自动调用\n",
    "class Cat:\n",
    "    def __init__(self,name) -> None:\n",
    "        self.name = name\n",
    "    \n",
    "    def eat(self):\n",
    "        print('%s猫吃鱼'%self.name)\n",
    "    \n",
    "    def __del__(self):\n",
    "        print('%s销毁了'%self.name)\n",
    "    \n",
    "    def __str__(self):\n",
    "        return '我是%s'%self.name"
   ]
  },
  {
   "cell_type": "code",
   "execution_count": 20,
   "metadata": {},
   "outputs": [
    {
     "name": "stdout",
     "output_type": "stream",
     "text": [
      "tom销毁了\n",
      "tom销毁了\n"
     ]
    }
   ],
   "source": [
    "tom = Cat('tom')\n",
    "del tom"
   ]
  },
  {
   "cell_type": "code",
   "execution_count": 21,
   "metadata": {},
   "outputs": [
    {
     "name": "stdout",
     "output_type": "stream",
     "text": [
      "我是tom\n"
     ]
    }
   ],
   "source": [
    "#__str__ 输出对象变量时候，可以用print 对象自动内容\n",
    "tom = Cat('tom')\n",
    "print(tom)"
   ]
  },
  {
   "cell_type": "code",
   "execution_count": 22,
   "metadata": {},
   "outputs": [
    {
     "ename": "AttributeError",
     "evalue": "'Person' object has no attribute '__my_data'",
     "output_type": "error",
     "traceback": [
      "\u001b[0;31m---------------------------------------------------------------------------\u001b[0m",
      "\u001b[0;31mAttributeError\u001b[0m                            Traceback (most recent call last)",
      "Cell \u001b[0;32mIn[22], line 13\u001b[0m\n\u001b[1;32m     11\u001b[0m person1 \u001b[38;5;241m=\u001b[39m Person(\u001b[38;5;124m'\u001b[39m\u001b[38;5;124mzs\u001b[39m\u001b[38;5;124m'\u001b[39m)\n\u001b[1;32m     12\u001b[0m \u001b[38;5;66;03m# person1.__age\u001b[39;00m\n\u001b[0;32m---> 13\u001b[0m person1\u001b[38;5;241m.\u001b[39m__my_data()\n",
      "\u001b[0;31mAttributeError\u001b[0m: 'Person' object has no attribute '__my_data'"
     ]
    }
   ],
   "source": [
    "# 我们在类的外部中不允许 访问类中的一些方法和属性\n",
    "# 私有属性和方法\n",
    "class Person():\n",
    "    def __init__(self,name):\n",
    "        self.name = name\n",
    "        self.__age = 18 #属性前面加—__表私有\n",
    "    \n",
    "    def __my_data(self): # 不允许外部访问，但是可以在内部访问\n",
    "        print('我的名字是%s,我的年龄是%d'%(self.name,self.__age))\n",
    "\n",
    "person1 = Person('zs')\n",
    "# person1.__age\n",
    "person1.__my_data()\n"
   ]
  },
  {
   "cell_type": "code",
   "execution_count": null,
   "metadata": {},
   "outputs": [
    {
     "ename": "AttributeError",
     "evalue": "'Person' object has no attribute '__age'",
     "output_type": "error",
     "traceback": [
      "\u001b[0;31m---------------------------------------------------------------------------\u001b[0m",
      "\u001b[0;31mAttributeError\u001b[0m                            Traceback (most recent call last)",
      "Cell \u001b[0;32mIn[14], line 4\u001b[0m\n\u001b[1;32m      1\u001b[0m \u001b[38;5;66;03m# 伪私有属性和方法 python 中并没有真正的私有，\u001b[39;00m\n\u001b[1;32m      2\u001b[0m \u001b[38;5;66;03m# 使用类名__名称\u001b[39;00m\n\u001b[1;32m      3\u001b[0m zs \u001b[38;5;241m=\u001b[39m Person(\u001b[38;5;124m'\u001b[39m\u001b[38;5;124mzs\u001b[39m\u001b[38;5;124m'\u001b[39m)\n\u001b[0;32m----> 4\u001b[0m \u001b[38;5;28mprint\u001b[39m(zs\u001b[38;5;241m.\u001b[39m__age)\n",
      "\u001b[0;31mAttributeError\u001b[0m: 'Person' object has no attribute '__age'"
     ]
    }
   ],
   "source": [
    "# 伪私有属性和方法 python 中并没有真正的私有，\n",
    "# 使用类名__名称\n",
    "zs = Person('zs')\n",
    "print(zs._Person__age)\n"
   ]
  },
  {
   "cell_type": "code",
   "execution_count": null,
   "metadata": {},
   "outputs": [],
   "source": [
    "# 面向对象 三大特性，封装 继承 多态\n",
    "# 继承\n",
    "class Animals:\n",
    "    def eat(self):\n",
    "        print('吃')\n",
    "    def sleep(self):\n",
    "        print('睡')\n",
    "\n",
    "class Dog(Animals):\n",
    "    def bark(self):\n",
    "        print('汪汪')"
   ]
  },
  {
   "cell_type": "code",
   "execution_count": null,
   "metadata": {},
   "outputs": [],
   "source": [
    "# 继承传递性\n",
    "class Cat(Dog):\n",
    "    def work(self):\n",
    "        print('抓老鼠')"
   ]
  }
 ],
 "metadata": {
  "language_info": {
   "name": "python"
  }
 },
 "nbformat": 4,
 "nbformat_minor": 2
}
